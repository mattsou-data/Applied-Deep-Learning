{
 "cells": [
  {
   "cell_type": "code",
   "execution_count": 2,
   "metadata": {},
   "outputs": [],
   "source": [
    "import yfinance as yf\n",
    "import pandas as pd"
   ]
  },
  {
   "cell_type": "code",
   "execution_count": 4,
   "metadata": {},
   "outputs": [
    {
     "name": "stderr",
     "output_type": "stream",
     "text": [
      "[*********************100%***********************]  1 of 1 completed"
     ]
    },
    {
     "name": "stdout",
     "output_type": "stream",
     "text": [
      "           Date           Open          Close\n",
      "1890 2024-12-07   99916.710938   99923.335938\n",
      "1891 2024-12-08   99921.914062  101236.015625\n",
      "1892 2024-12-09  101237.062500   97432.718750\n",
      "1893 2024-12-10   97441.234375   96675.429688\n",
      "1894 2024-12-11   96656.062500  101173.031250\n"
     ]
    },
    {
     "name": "stderr",
     "output_type": "stream",
     "text": [
      "\n"
     ]
    }
   ],
   "source": [
    "\n",
    "\n",
    "# Download historical data for Bitcoin (BTC-USD)\n",
    "btc_data = yf.download(\"BTC-USD\", start=\"2019-10-05\", end=\"2024-12-13\")\n",
    "\n",
    "# Select the 'Open' and 'Close' columns and reset the index to include the date\n",
    "btc_df = btc_data[['Open', 'Close']].reset_index()\n",
    "\n",
    "# Rename the columns for clarity\n",
    "btc_df.columns = ['Date', 'Open', 'Close']\n",
    "\n",
    "# Display the first few rows of the DataFrame\n",
    "print(btc_df.tail())"
   ]
  },
  {
   "cell_type": "code",
   "execution_count": 5,
   "metadata": {},
   "outputs": [],
   "source": [
    "# Save btc_df to a CSV file\n",
    "btc_df.to_csv('bitcoin_data.csv', index=False)"
   ]
  },
  {
   "cell_type": "code",
   "execution_count": null,
   "metadata": {},
   "outputs": [],
   "source": []
  }
 ],
 "metadata": {
  "kernelspec": {
   "display_name": "venv",
   "language": "python",
   "name": "python3"
  },
  "language_info": {
   "codemirror_mode": {
    "name": "ipython",
    "version": 3
   },
   "file_extension": ".py",
   "mimetype": "text/x-python",
   "name": "python",
   "nbconvert_exporter": "python",
   "pygments_lexer": "ipython3",
   "version": "3.11.5"
  }
 },
 "nbformat": 4,
 "nbformat_minor": 2
}
